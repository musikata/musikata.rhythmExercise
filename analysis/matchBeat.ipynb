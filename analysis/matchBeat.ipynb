{
 "metadata": {
  "celltoolbar": "Edit Metadata",
  "name": "",
  "signature": "sha256:c40d896d3a4b9b7afd639901ba6fa6a63c85850be79875d9496d59781ce9cb65"
 },
 "nbformat": 3,
 "nbformat_minor": 0,
 "worksheets": [
  {
   "cells": [
    {
     "cell_type": "code",
     "collapsed": false,
     "input": [
      "import json\n",
      "data = json.load(open('./data.json', 'rb'))"
     ],
     "language": "python",
     "metadata": {},
     "outputs": [],
     "prompt_number": 27
    },
    {
     "cell_type": "code",
     "collapsed": false,
     "input": [
      "ptrData = data['ptrData']\n",
      "\n",
      "\n",
      "firstRecord = ptrData[0]\n",
      "times = [firstRecord['t']]\n",
      "ys = [firstRecord['y']]\n",
      "downYs = []\n",
      "\n",
      "dys = [0]\n",
      "ddys = [0]\n",
      "\n",
      "smoothing = 10\n",
      "sDys = [0]\n",
      "sDdys = [0]\n",
      "\n",
      "prevRecord = firstRecord\n",
      "for i in range(1, len(ptrData)):\n",
      "    prevRecord = ptrData[i-1]\n",
      "    record = ptrData[i]\n",
      "    \n",
      "    times.append(record['t'])\n",
      "    ys.append(record['y'])\n",
      "    downYs.append(record['yDown'])\n",
      "    \n",
      "    # Calculate dy, ddy.\n",
      "    dy = record['y'] - prevRecord['y']\n",
      "    ddy = dy - ptrDys[-1]\n",
      "    dys.append(dy)\n",
      "    ddys.append(ddy)\n",
      "    \n",
      "    # Calculate smoothed dy, ddy.\n",
      "    sDy = sDys[-1] + (dy - sDys[-1])/smoothing\n",
      "    sDdy = sDdys[-1] + (ddy - sDdys[-1])/smoothing\n",
      "    sDys.append(sDy)\n",
      "    sDdys.append(sDdy)\n",
      "    \n",
      "minTime = min(times)\n",
      "maxTime = max(times)\n",
      "    \n",
      "    \n",
      "avgY = sum(ptrYs)/len(ptrYs)\n",
      "\n",
      "beatTimes = [t for t in data['beatData'] if (t >= minTime and t <= maxTime)]"
     ],
     "language": "python",
     "metadata": {},
     "outputs": [],
     "prompt_number": 80
    },
    {
     "cell_type": "code",
     "collapsed": false,
     "input": [
      "fig1 = plt.figure()\n",
      "numPlots = 5\n",
      "plots = {}\n",
      "\n",
      "curPlot = 1\n",
      "\n",
      "    \n",
      "plots['ys'] = fig1.add_subplot(numPlots,1,curPlot)\n",
      "curPlot += 1\n",
      "plots['ys'].plot(times,ys, 'ro')\n",
      "\n",
      "plots['dys'] = fig1.add_subplot(numPlots,1,curPlot)\n",
      "curPlot += 1\n",
      "plots['dys'].plot(times,dys, 'go')\n",
      "\n",
      "plots['ddys'] = fig1.add_subplot(numPlots,1,curPlot)\n",
      "curPlot += 1\n",
      "plots['ddys'].plot(times, ddys, 'mo')\n",
      "\n",
      "plots['sDys'] = fig1.add_subplot(numPlots,1,curPlot)\n",
      "curPlot += 1\n",
      "plots['sDys'].plot(times,sDys, 'go')\n",
      "\n",
      "plots['sDdys'] = fig1.add_subplot(numPlots,1,curPlot)\n",
      "curPlot += 1\n",
      "plots['sDdys'].plot(times, sDdys, 'mo')\n",
      "\n",
      "for plot in plots.values():\n",
      "    for beatTime in beatTimes:\n",
      "        plot.axvline(x=beatTime, color='b')\n"
     ],
     "language": "python",
     "metadata": {},
     "outputs": [],
     "prompt_number": 81
    },
    {
     "cell_type": "code",
     "collapsed": false,
     "input": [],
     "language": "python",
     "metadata": {},
     "outputs": []
    }
   ],
   "metadata": {}
  }
 ]
}